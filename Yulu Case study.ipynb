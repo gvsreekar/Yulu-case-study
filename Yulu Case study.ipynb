{
 "cells": [
  {
   "cell_type": "code",
   "execution_count": 1,
   "id": "99779758",
   "metadata": {},
   "outputs": [],
   "source": [
    "import pandas as pd \n",
    "import matplotlib.pyplot as plt \n",
    "import numpy as np\n",
    "import seaborn as sns \n",
    "import scipy \n"
   ]
  },
  {
   "cell_type": "code",
   "execution_count": 2,
   "id": "af08031a",
   "metadata": {},
   "outputs": [],
   "source": [
    "df=pd.read_csv('Yulu.csv')"
   ]
  },
  {
   "cell_type": "code",
   "execution_count": 3,
   "id": "a97ed5ed",
   "metadata": {},
   "outputs": [
    {
     "data": {
      "text/html": [
       "<div>\n",
       "<style scoped>\n",
       "    .dataframe tbody tr th:only-of-type {\n",
       "        vertical-align: middle;\n",
       "    }\n",
       "\n",
       "    .dataframe tbody tr th {\n",
       "        vertical-align: top;\n",
       "    }\n",
       "\n",
       "    .dataframe thead th {\n",
       "        text-align: right;\n",
       "    }\n",
       "</style>\n",
       "<table border=\"1\" class=\"dataframe\">\n",
       "  <thead>\n",
       "    <tr style=\"text-align: right;\">\n",
       "      <th></th>\n",
       "      <th>datetime</th>\n",
       "      <th>season</th>\n",
       "      <th>holiday</th>\n",
       "      <th>workingday</th>\n",
       "      <th>weather</th>\n",
       "      <th>temp</th>\n",
       "      <th>atemp</th>\n",
       "      <th>humidity</th>\n",
       "      <th>windspeed</th>\n",
       "      <th>casual</th>\n",
       "      <th>registered</th>\n",
       "      <th>count</th>\n",
       "    </tr>\n",
       "  </thead>\n",
       "  <tbody>\n",
       "    <tr>\n",
       "      <th>0</th>\n",
       "      <td>2011-01-01 00:00:00</td>\n",
       "      <td>1</td>\n",
       "      <td>0</td>\n",
       "      <td>0</td>\n",
       "      <td>1</td>\n",
       "      <td>9.84</td>\n",
       "      <td>14.395</td>\n",
       "      <td>81</td>\n",
       "      <td>0.0</td>\n",
       "      <td>3</td>\n",
       "      <td>13</td>\n",
       "      <td>16</td>\n",
       "    </tr>\n",
       "    <tr>\n",
       "      <th>1</th>\n",
       "      <td>2011-01-01 01:00:00</td>\n",
       "      <td>1</td>\n",
       "      <td>0</td>\n",
       "      <td>0</td>\n",
       "      <td>1</td>\n",
       "      <td>9.02</td>\n",
       "      <td>13.635</td>\n",
       "      <td>80</td>\n",
       "      <td>0.0</td>\n",
       "      <td>8</td>\n",
       "      <td>32</td>\n",
       "      <td>40</td>\n",
       "    </tr>\n",
       "    <tr>\n",
       "      <th>2</th>\n",
       "      <td>2011-01-01 02:00:00</td>\n",
       "      <td>1</td>\n",
       "      <td>0</td>\n",
       "      <td>0</td>\n",
       "      <td>1</td>\n",
       "      <td>9.02</td>\n",
       "      <td>13.635</td>\n",
       "      <td>80</td>\n",
       "      <td>0.0</td>\n",
       "      <td>5</td>\n",
       "      <td>27</td>\n",
       "      <td>32</td>\n",
       "    </tr>\n",
       "    <tr>\n",
       "      <th>3</th>\n",
       "      <td>2011-01-01 03:00:00</td>\n",
       "      <td>1</td>\n",
       "      <td>0</td>\n",
       "      <td>0</td>\n",
       "      <td>1</td>\n",
       "      <td>9.84</td>\n",
       "      <td>14.395</td>\n",
       "      <td>75</td>\n",
       "      <td>0.0</td>\n",
       "      <td>3</td>\n",
       "      <td>10</td>\n",
       "      <td>13</td>\n",
       "    </tr>\n",
       "    <tr>\n",
       "      <th>4</th>\n",
       "      <td>2011-01-01 04:00:00</td>\n",
       "      <td>1</td>\n",
       "      <td>0</td>\n",
       "      <td>0</td>\n",
       "      <td>1</td>\n",
       "      <td>9.84</td>\n",
       "      <td>14.395</td>\n",
       "      <td>75</td>\n",
       "      <td>0.0</td>\n",
       "      <td>0</td>\n",
       "      <td>1</td>\n",
       "      <td>1</td>\n",
       "    </tr>\n",
       "  </tbody>\n",
       "</table>\n",
       "</div>"
      ],
      "text/plain": [
       "              datetime  season  holiday  workingday  weather  temp   atemp  \\\n",
       "0  2011-01-01 00:00:00       1        0           0        1  9.84  14.395   \n",
       "1  2011-01-01 01:00:00       1        0           0        1  9.02  13.635   \n",
       "2  2011-01-01 02:00:00       1        0           0        1  9.02  13.635   \n",
       "3  2011-01-01 03:00:00       1        0           0        1  9.84  14.395   \n",
       "4  2011-01-01 04:00:00       1        0           0        1  9.84  14.395   \n",
       "\n",
       "   humidity  windspeed  casual  registered  count  \n",
       "0        81        0.0       3          13     16  \n",
       "1        80        0.0       8          32     40  \n",
       "2        80        0.0       5          27     32  \n",
       "3        75        0.0       3          10     13  \n",
       "4        75        0.0       0           1      1  "
      ]
     },
     "execution_count": 3,
     "metadata": {},
     "output_type": "execute_result"
    }
   ],
   "source": [
    "df.head()"
   ]
  },
  {
   "cell_type": "code",
   "execution_count": 4,
   "id": "903e2e4a",
   "metadata": {},
   "outputs": [
    {
     "name": "stdout",
     "output_type": "stream",
     "text": [
      "<class 'pandas.core.frame.DataFrame'>\n",
      "RangeIndex: 10886 entries, 0 to 10885\n",
      "Data columns (total 12 columns):\n",
      " #   Column      Non-Null Count  Dtype  \n",
      "---  ------      --------------  -----  \n",
      " 0   datetime    10886 non-null  object \n",
      " 1   season      10886 non-null  int64  \n",
      " 2   holiday     10886 non-null  int64  \n",
      " 3   workingday  10886 non-null  int64  \n",
      " 4   weather     10886 non-null  int64  \n",
      " 5   temp        10886 non-null  float64\n",
      " 6   atemp       10886 non-null  float64\n",
      " 7   humidity    10886 non-null  int64  \n",
      " 8   windspeed   10886 non-null  float64\n",
      " 9   casual      10886 non-null  int64  \n",
      " 10  registered  10886 non-null  int64  \n",
      " 11  count       10886 non-null  int64  \n",
      "dtypes: float64(3), int64(8), object(1)\n",
      "memory usage: 1020.7+ KB\n"
     ]
    }
   ],
   "source": [
    "## Knowing about the data\n",
    "# datetime: datetime\n",
    "# season: season (1: spring, 2: summer, 3: fall, 4: winter)\n",
    "# holiday: whether day is a holiday or not (extracted from http://dchr.dc.gov/page/holiday-schedule)\n",
    "# workingday: if day is neither weekend nor holiday is 1, otherwise is 0.\n",
    "# weather:\n",
    "# 1: Clear, Few clouds, partly cloudy, partly cloudy\n",
    "# 2: Mist + Cloudy, Mist + Broken clouds, Mist + Few clouds, Mist\n",
    "# 3: Light Snow, Light Rain + Thunderstorm + Scattered clouds, Light Rain + Scattered clouds\n",
    "# 4: Heavy Rain + Ice Pallets + Thunderstorm + Mist, Snow + Fog\n",
    "# temp: temperature in Celsius\n",
    "# atemp: feeling temperature in Celsius\n",
    "# humidity: humidity\n",
    "# windspeed: wind speed\n",
    "# casual: count of casual users\n",
    "# registered: count of registered users\n",
    "# count: count of total rental bikes including both casual and registered\n",
    "df.info()"
   ]
  },
  {
   "cell_type": "code",
   "execution_count": 5,
   "id": "52f0c848",
   "metadata": {},
   "outputs": [
    {
     "data": {
      "text/html": [
       "<div>\n",
       "<style scoped>\n",
       "    .dataframe tbody tr th:only-of-type {\n",
       "        vertical-align: middle;\n",
       "    }\n",
       "\n",
       "    .dataframe tbody tr th {\n",
       "        vertical-align: top;\n",
       "    }\n",
       "\n",
       "    .dataframe thead th {\n",
       "        text-align: right;\n",
       "    }\n",
       "</style>\n",
       "<table border=\"1\" class=\"dataframe\">\n",
       "  <thead>\n",
       "    <tr style=\"text-align: right;\">\n",
       "      <th></th>\n",
       "      <th>datetime</th>\n",
       "      <th>season</th>\n",
       "      <th>holiday</th>\n",
       "      <th>workingday</th>\n",
       "      <th>weather</th>\n",
       "      <th>temp</th>\n",
       "      <th>atemp</th>\n",
       "      <th>humidity</th>\n",
       "      <th>windspeed</th>\n",
       "      <th>casual</th>\n",
       "      <th>registered</th>\n",
       "      <th>count</th>\n",
       "    </tr>\n",
       "  </thead>\n",
       "  <tbody>\n",
       "    <tr>\n",
       "      <th>0</th>\n",
       "      <td>2011-01-01 00:00:00</td>\n",
       "      <td>1</td>\n",
       "      <td>0</td>\n",
       "      <td>0</td>\n",
       "      <td>1</td>\n",
       "      <td>9.84</td>\n",
       "      <td>14.395</td>\n",
       "      <td>81</td>\n",
       "      <td>0.0000</td>\n",
       "      <td>3</td>\n",
       "      <td>13</td>\n",
       "      <td>16</td>\n",
       "    </tr>\n",
       "    <tr>\n",
       "      <th>1</th>\n",
       "      <td>2011-01-01 01:00:00</td>\n",
       "      <td>1</td>\n",
       "      <td>0</td>\n",
       "      <td>0</td>\n",
       "      <td>1</td>\n",
       "      <td>9.02</td>\n",
       "      <td>13.635</td>\n",
       "      <td>80</td>\n",
       "      <td>0.0000</td>\n",
       "      <td>8</td>\n",
       "      <td>32</td>\n",
       "      <td>40</td>\n",
       "    </tr>\n",
       "    <tr>\n",
       "      <th>2</th>\n",
       "      <td>2011-01-01 02:00:00</td>\n",
       "      <td>1</td>\n",
       "      <td>0</td>\n",
       "      <td>0</td>\n",
       "      <td>1</td>\n",
       "      <td>9.02</td>\n",
       "      <td>13.635</td>\n",
       "      <td>80</td>\n",
       "      <td>0.0000</td>\n",
       "      <td>5</td>\n",
       "      <td>27</td>\n",
       "      <td>32</td>\n",
       "    </tr>\n",
       "    <tr>\n",
       "      <th>3</th>\n",
       "      <td>2011-01-01 03:00:00</td>\n",
       "      <td>1</td>\n",
       "      <td>0</td>\n",
       "      <td>0</td>\n",
       "      <td>1</td>\n",
       "      <td>9.84</td>\n",
       "      <td>14.395</td>\n",
       "      <td>75</td>\n",
       "      <td>0.0000</td>\n",
       "      <td>3</td>\n",
       "      <td>10</td>\n",
       "      <td>13</td>\n",
       "    </tr>\n",
       "    <tr>\n",
       "      <th>4</th>\n",
       "      <td>2011-01-01 04:00:00</td>\n",
       "      <td>1</td>\n",
       "      <td>0</td>\n",
       "      <td>0</td>\n",
       "      <td>1</td>\n",
       "      <td>9.84</td>\n",
       "      <td>14.395</td>\n",
       "      <td>75</td>\n",
       "      <td>0.0000</td>\n",
       "      <td>0</td>\n",
       "      <td>1</td>\n",
       "      <td>1</td>\n",
       "    </tr>\n",
       "    <tr>\n",
       "      <th>5</th>\n",
       "      <td>2011-01-01 05:00:00</td>\n",
       "      <td>1</td>\n",
       "      <td>0</td>\n",
       "      <td>0</td>\n",
       "      <td>2</td>\n",
       "      <td>9.84</td>\n",
       "      <td>12.880</td>\n",
       "      <td>75</td>\n",
       "      <td>6.0032</td>\n",
       "      <td>0</td>\n",
       "      <td>1</td>\n",
       "      <td>1</td>\n",
       "    </tr>\n",
       "    <tr>\n",
       "      <th>6</th>\n",
       "      <td>2011-01-01 06:00:00</td>\n",
       "      <td>1</td>\n",
       "      <td>0</td>\n",
       "      <td>0</td>\n",
       "      <td>1</td>\n",
       "      <td>9.02</td>\n",
       "      <td>13.635</td>\n",
       "      <td>80</td>\n",
       "      <td>0.0000</td>\n",
       "      <td>2</td>\n",
       "      <td>0</td>\n",
       "      <td>2</td>\n",
       "    </tr>\n",
       "    <tr>\n",
       "      <th>7</th>\n",
       "      <td>2011-01-01 07:00:00</td>\n",
       "      <td>1</td>\n",
       "      <td>0</td>\n",
       "      <td>0</td>\n",
       "      <td>1</td>\n",
       "      <td>8.20</td>\n",
       "      <td>12.880</td>\n",
       "      <td>86</td>\n",
       "      <td>0.0000</td>\n",
       "      <td>1</td>\n",
       "      <td>2</td>\n",
       "      <td>3</td>\n",
       "    </tr>\n",
       "    <tr>\n",
       "      <th>8</th>\n",
       "      <td>2011-01-01 08:00:00</td>\n",
       "      <td>1</td>\n",
       "      <td>0</td>\n",
       "      <td>0</td>\n",
       "      <td>1</td>\n",
       "      <td>9.84</td>\n",
       "      <td>14.395</td>\n",
       "      <td>75</td>\n",
       "      <td>0.0000</td>\n",
       "      <td>1</td>\n",
       "      <td>7</td>\n",
       "      <td>8</td>\n",
       "    </tr>\n",
       "    <tr>\n",
       "      <th>9</th>\n",
       "      <td>2011-01-01 09:00:00</td>\n",
       "      <td>1</td>\n",
       "      <td>0</td>\n",
       "      <td>0</td>\n",
       "      <td>1</td>\n",
       "      <td>13.12</td>\n",
       "      <td>17.425</td>\n",
       "      <td>76</td>\n",
       "      <td>0.0000</td>\n",
       "      <td>8</td>\n",
       "      <td>6</td>\n",
       "      <td>14</td>\n",
       "    </tr>\n",
       "  </tbody>\n",
       "</table>\n",
       "</div>"
      ],
      "text/plain": [
       "              datetime  season  holiday  workingday  weather   temp   atemp  \\\n",
       "0  2011-01-01 00:00:00       1        0           0        1   9.84  14.395   \n",
       "1  2011-01-01 01:00:00       1        0           0        1   9.02  13.635   \n",
       "2  2011-01-01 02:00:00       1        0           0        1   9.02  13.635   \n",
       "3  2011-01-01 03:00:00       1        0           0        1   9.84  14.395   \n",
       "4  2011-01-01 04:00:00       1        0           0        1   9.84  14.395   \n",
       "5  2011-01-01 05:00:00       1        0           0        2   9.84  12.880   \n",
       "6  2011-01-01 06:00:00       1        0           0        1   9.02  13.635   \n",
       "7  2011-01-01 07:00:00       1        0           0        1   8.20  12.880   \n",
       "8  2011-01-01 08:00:00       1        0           0        1   9.84  14.395   \n",
       "9  2011-01-01 09:00:00       1        0           0        1  13.12  17.425   \n",
       "\n",
       "   humidity  windspeed  casual  registered  count  \n",
       "0        81     0.0000       3          13     16  \n",
       "1        80     0.0000       8          32     40  \n",
       "2        80     0.0000       5          27     32  \n",
       "3        75     0.0000       3          10     13  \n",
       "4        75     0.0000       0           1      1  \n",
       "5        75     6.0032       0           1      1  \n",
       "6        80     0.0000       2           0      2  \n",
       "7        86     0.0000       1           2      3  \n",
       "8        75     0.0000       1           7      8  \n",
       "9        76     0.0000       8           6     14  "
      ]
     },
     "execution_count": 5,
     "metadata": {},
     "output_type": "execute_result"
    }
   ],
   "source": [
    "df.head(10)"
   ]
  },
  {
   "cell_type": "code",
   "execution_count": 6,
   "id": "3071410b",
   "metadata": {},
   "outputs": [],
   "source": [
    "# Using proper names in categorical columns rather than having numbers\n",
    "df['season']=df['season'].map({1:'spring',2:'summer',3:'fall',4:'winter'})\n",
    "df['weather']=df['weather'].map({1:'clear',2:'Mist',3:'light rain',4:'heavy rain'})\n"
   ]
  },
  {
   "cell_type": "code",
   "execution_count": 7,
   "id": "7649a791",
   "metadata": {},
   "outputs": [
    {
     "data": {
      "text/html": [
       "<div>\n",
       "<style scoped>\n",
       "    .dataframe tbody tr th:only-of-type {\n",
       "        vertical-align: middle;\n",
       "    }\n",
       "\n",
       "    .dataframe tbody tr th {\n",
       "        vertical-align: top;\n",
       "    }\n",
       "\n",
       "    .dataframe thead th {\n",
       "        text-align: right;\n",
       "    }\n",
       "</style>\n",
       "<table border=\"1\" class=\"dataframe\">\n",
       "  <thead>\n",
       "    <tr style=\"text-align: right;\">\n",
       "      <th></th>\n",
       "      <th>datetime</th>\n",
       "      <th>season</th>\n",
       "      <th>holiday</th>\n",
       "      <th>workingday</th>\n",
       "      <th>weather</th>\n",
       "      <th>temp</th>\n",
       "      <th>atemp</th>\n",
       "      <th>humidity</th>\n",
       "      <th>windspeed</th>\n",
       "      <th>casual</th>\n",
       "      <th>registered</th>\n",
       "      <th>count</th>\n",
       "    </tr>\n",
       "  </thead>\n",
       "  <tbody>\n",
       "    <tr>\n",
       "      <th>0</th>\n",
       "      <td>2011-01-01 00:00:00</td>\n",
       "      <td>spring</td>\n",
       "      <td>0</td>\n",
       "      <td>0</td>\n",
       "      <td>clear</td>\n",
       "      <td>9.84</td>\n",
       "      <td>14.395</td>\n",
       "      <td>81</td>\n",
       "      <td>0.0</td>\n",
       "      <td>3</td>\n",
       "      <td>13</td>\n",
       "      <td>16</td>\n",
       "    </tr>\n",
       "    <tr>\n",
       "      <th>1</th>\n",
       "      <td>2011-01-01 01:00:00</td>\n",
       "      <td>spring</td>\n",
       "      <td>0</td>\n",
       "      <td>0</td>\n",
       "      <td>clear</td>\n",
       "      <td>9.02</td>\n",
       "      <td>13.635</td>\n",
       "      <td>80</td>\n",
       "      <td>0.0</td>\n",
       "      <td>8</td>\n",
       "      <td>32</td>\n",
       "      <td>40</td>\n",
       "    </tr>\n",
       "    <tr>\n",
       "      <th>2</th>\n",
       "      <td>2011-01-01 02:00:00</td>\n",
       "      <td>spring</td>\n",
       "      <td>0</td>\n",
       "      <td>0</td>\n",
       "      <td>clear</td>\n",
       "      <td>9.02</td>\n",
       "      <td>13.635</td>\n",
       "      <td>80</td>\n",
       "      <td>0.0</td>\n",
       "      <td>5</td>\n",
       "      <td>27</td>\n",
       "      <td>32</td>\n",
       "    </tr>\n",
       "    <tr>\n",
       "      <th>3</th>\n",
       "      <td>2011-01-01 03:00:00</td>\n",
       "      <td>spring</td>\n",
       "      <td>0</td>\n",
       "      <td>0</td>\n",
       "      <td>clear</td>\n",
       "      <td>9.84</td>\n",
       "      <td>14.395</td>\n",
       "      <td>75</td>\n",
       "      <td>0.0</td>\n",
       "      <td>3</td>\n",
       "      <td>10</td>\n",
       "      <td>13</td>\n",
       "    </tr>\n",
       "    <tr>\n",
       "      <th>4</th>\n",
       "      <td>2011-01-01 04:00:00</td>\n",
       "      <td>spring</td>\n",
       "      <td>0</td>\n",
       "      <td>0</td>\n",
       "      <td>clear</td>\n",
       "      <td>9.84</td>\n",
       "      <td>14.395</td>\n",
       "      <td>75</td>\n",
       "      <td>0.0</td>\n",
       "      <td>0</td>\n",
       "      <td>1</td>\n",
       "      <td>1</td>\n",
       "    </tr>\n",
       "  </tbody>\n",
       "</table>\n",
       "</div>"
      ],
      "text/plain": [
       "              datetime  season  holiday  workingday weather  temp   atemp  \\\n",
       "0  2011-01-01 00:00:00  spring        0           0   clear  9.84  14.395   \n",
       "1  2011-01-01 01:00:00  spring        0           0   clear  9.02  13.635   \n",
       "2  2011-01-01 02:00:00  spring        0           0   clear  9.02  13.635   \n",
       "3  2011-01-01 03:00:00  spring        0           0   clear  9.84  14.395   \n",
       "4  2011-01-01 04:00:00  spring        0           0   clear  9.84  14.395   \n",
       "\n",
       "   humidity  windspeed  casual  registered  count  \n",
       "0        81        0.0       3          13     16  \n",
       "1        80        0.0       8          32     40  \n",
       "2        80        0.0       5          27     32  \n",
       "3        75        0.0       3          10     13  \n",
       "4        75        0.0       0           1      1  "
      ]
     },
     "execution_count": 7,
     "metadata": {},
     "output_type": "execute_result"
    }
   ],
   "source": [
    "df.head()"
   ]
  },
  {
   "cell_type": "code",
   "execution_count": 13,
   "id": "3c4acfa0",
   "metadata": {},
   "outputs": [
    {
     "data": {
      "text/html": [
       "<div>\n",
       "<style scoped>\n",
       "    .dataframe tbody tr th:only-of-type {\n",
       "        vertical-align: middle;\n",
       "    }\n",
       "\n",
       "    .dataframe tbody tr th {\n",
       "        vertical-align: top;\n",
       "    }\n",
       "\n",
       "    .dataframe thead th {\n",
       "        text-align: right;\n",
       "    }\n",
       "</style>\n",
       "<table border=\"1\" class=\"dataframe\">\n",
       "  <thead>\n",
       "    <tr style=\"text-align: right;\">\n",
       "      <th></th>\n",
       "      <th>datetime</th>\n",
       "      <th>season</th>\n",
       "      <th>weather</th>\n",
       "    </tr>\n",
       "  </thead>\n",
       "  <tbody>\n",
       "    <tr>\n",
       "      <th>count</th>\n",
       "      <td>10886</td>\n",
       "      <td>10886</td>\n",
       "      <td>10886</td>\n",
       "    </tr>\n",
       "    <tr>\n",
       "      <th>unique</th>\n",
       "      <td>10886</td>\n",
       "      <td>4</td>\n",
       "      <td>4</td>\n",
       "    </tr>\n",
       "    <tr>\n",
       "      <th>top</th>\n",
       "      <td>2011-01-01 00:00:00</td>\n",
       "      <td>winter</td>\n",
       "      <td>clear</td>\n",
       "    </tr>\n",
       "    <tr>\n",
       "      <th>freq</th>\n",
       "      <td>1</td>\n",
       "      <td>2734</td>\n",
       "      <td>7192</td>\n",
       "    </tr>\n",
       "  </tbody>\n",
       "</table>\n",
       "</div>"
      ],
      "text/plain": [
       "                   datetime  season weather\n",
       "count                 10886   10886   10886\n",
       "unique                10886       4       4\n",
       "top     2011-01-01 00:00:00  winter   clear\n",
       "freq                      1    2734    7192"
      ]
     },
     "execution_count": 13,
     "metadata": {},
     "output_type": "execute_result"
    }
   ],
   "source": [
    "# Statistical summary of Data\n",
    "df.select_dtypes('object').describe()"
   ]
  },
  {
   "cell_type": "code",
   "execution_count": 14,
   "id": "a5edf74e",
   "metadata": {},
   "outputs": [
    {
     "data": {
      "text/html": [
       "<div>\n",
       "<style scoped>\n",
       "    .dataframe tbody tr th:only-of-type {\n",
       "        vertical-align: middle;\n",
       "    }\n",
       "\n",
       "    .dataframe tbody tr th {\n",
       "        vertical-align: top;\n",
       "    }\n",
       "\n",
       "    .dataframe thead th {\n",
       "        text-align: right;\n",
       "    }\n",
       "</style>\n",
       "<table border=\"1\" class=\"dataframe\">\n",
       "  <thead>\n",
       "    <tr style=\"text-align: right;\">\n",
       "      <th></th>\n",
       "      <th>holiday</th>\n",
       "      <th>workingday</th>\n",
       "      <th>temp</th>\n",
       "      <th>atemp</th>\n",
       "      <th>humidity</th>\n",
       "      <th>windspeed</th>\n",
       "      <th>casual</th>\n",
       "      <th>registered</th>\n",
       "      <th>count</th>\n",
       "    </tr>\n",
       "  </thead>\n",
       "  <tbody>\n",
       "    <tr>\n",
       "      <th>count</th>\n",
       "      <td>10886.000000</td>\n",
       "      <td>10886.000000</td>\n",
       "      <td>10886.00000</td>\n",
       "      <td>10886.000000</td>\n",
       "      <td>10886.000000</td>\n",
       "      <td>10886.000000</td>\n",
       "      <td>10886.000000</td>\n",
       "      <td>10886.000000</td>\n",
       "      <td>10886.000000</td>\n",
       "    </tr>\n",
       "    <tr>\n",
       "      <th>mean</th>\n",
       "      <td>0.028569</td>\n",
       "      <td>0.680875</td>\n",
       "      <td>20.23086</td>\n",
       "      <td>23.655084</td>\n",
       "      <td>61.886460</td>\n",
       "      <td>12.799395</td>\n",
       "      <td>36.021955</td>\n",
       "      <td>155.552177</td>\n",
       "      <td>191.574132</td>\n",
       "    </tr>\n",
       "    <tr>\n",
       "      <th>std</th>\n",
       "      <td>0.166599</td>\n",
       "      <td>0.466159</td>\n",
       "      <td>7.79159</td>\n",
       "      <td>8.474601</td>\n",
       "      <td>19.245033</td>\n",
       "      <td>8.164537</td>\n",
       "      <td>49.960477</td>\n",
       "      <td>151.039033</td>\n",
       "      <td>181.144454</td>\n",
       "    </tr>\n",
       "    <tr>\n",
       "      <th>min</th>\n",
       "      <td>0.000000</td>\n",
       "      <td>0.000000</td>\n",
       "      <td>0.82000</td>\n",
       "      <td>0.760000</td>\n",
       "      <td>0.000000</td>\n",
       "      <td>0.000000</td>\n",
       "      <td>0.000000</td>\n",
       "      <td>0.000000</td>\n",
       "      <td>1.000000</td>\n",
       "    </tr>\n",
       "    <tr>\n",
       "      <th>25%</th>\n",
       "      <td>0.000000</td>\n",
       "      <td>0.000000</td>\n",
       "      <td>13.94000</td>\n",
       "      <td>16.665000</td>\n",
       "      <td>47.000000</td>\n",
       "      <td>7.001500</td>\n",
       "      <td>4.000000</td>\n",
       "      <td>36.000000</td>\n",
       "      <td>42.000000</td>\n",
       "    </tr>\n",
       "    <tr>\n",
       "      <th>50%</th>\n",
       "      <td>0.000000</td>\n",
       "      <td>1.000000</td>\n",
       "      <td>20.50000</td>\n",
       "      <td>24.240000</td>\n",
       "      <td>62.000000</td>\n",
       "      <td>12.998000</td>\n",
       "      <td>17.000000</td>\n",
       "      <td>118.000000</td>\n",
       "      <td>145.000000</td>\n",
       "    </tr>\n",
       "    <tr>\n",
       "      <th>75%</th>\n",
       "      <td>0.000000</td>\n",
       "      <td>1.000000</td>\n",
       "      <td>26.24000</td>\n",
       "      <td>31.060000</td>\n",
       "      <td>77.000000</td>\n",
       "      <td>16.997900</td>\n",
       "      <td>49.000000</td>\n",
       "      <td>222.000000</td>\n",
       "      <td>284.000000</td>\n",
       "    </tr>\n",
       "    <tr>\n",
       "      <th>max</th>\n",
       "      <td>1.000000</td>\n",
       "      <td>1.000000</td>\n",
       "      <td>41.00000</td>\n",
       "      <td>45.455000</td>\n",
       "      <td>100.000000</td>\n",
       "      <td>56.996900</td>\n",
       "      <td>367.000000</td>\n",
       "      <td>886.000000</td>\n",
       "      <td>977.000000</td>\n",
       "    </tr>\n",
       "  </tbody>\n",
       "</table>\n",
       "</div>"
      ],
      "text/plain": [
       "            holiday    workingday         temp         atemp      humidity  \\\n",
       "count  10886.000000  10886.000000  10886.00000  10886.000000  10886.000000   \n",
       "mean       0.028569      0.680875     20.23086     23.655084     61.886460   \n",
       "std        0.166599      0.466159      7.79159      8.474601     19.245033   \n",
       "min        0.000000      0.000000      0.82000      0.760000      0.000000   \n",
       "25%        0.000000      0.000000     13.94000     16.665000     47.000000   \n",
       "50%        0.000000      1.000000     20.50000     24.240000     62.000000   \n",
       "75%        0.000000      1.000000     26.24000     31.060000     77.000000   \n",
       "max        1.000000      1.000000     41.00000     45.455000    100.000000   \n",
       "\n",
       "          windspeed        casual    registered         count  \n",
       "count  10886.000000  10886.000000  10886.000000  10886.000000  \n",
       "mean      12.799395     36.021955    155.552177    191.574132  \n",
       "std        8.164537     49.960477    151.039033    181.144454  \n",
       "min        0.000000      0.000000      0.000000      1.000000  \n",
       "25%        7.001500      4.000000     36.000000     42.000000  \n",
       "50%       12.998000     17.000000    118.000000    145.000000  \n",
       "75%       16.997900     49.000000    222.000000    284.000000  \n",
       "max       56.996900    367.000000    886.000000    977.000000  "
      ]
     },
     "execution_count": 14,
     "metadata": {},
     "output_type": "execute_result"
    }
   ],
   "source": [
    "df.select_dtypes('number').describe()"
   ]
  },
  {
   "cell_type": "code",
   "execution_count": 15,
   "id": "bf67f332",
   "metadata": {},
   "outputs": [
    {
     "data": {
      "text/html": [
       "<div>\n",
       "<style scoped>\n",
       "    .dataframe tbody tr th:only-of-type {\n",
       "        vertical-align: middle;\n",
       "    }\n",
       "\n",
       "    .dataframe tbody tr th {\n",
       "        vertical-align: top;\n",
       "    }\n",
       "\n",
       "    .dataframe thead th {\n",
       "        text-align: right;\n",
       "    }\n",
       "</style>\n",
       "<table border=\"1\" class=\"dataframe\">\n",
       "  <thead>\n",
       "    <tr style=\"text-align: right;\">\n",
       "      <th></th>\n",
       "      <th>datetime</th>\n",
       "      <th>season</th>\n",
       "      <th>holiday</th>\n",
       "      <th>workingday</th>\n",
       "      <th>weather</th>\n",
       "      <th>temp</th>\n",
       "      <th>atemp</th>\n",
       "      <th>humidity</th>\n",
       "      <th>windspeed</th>\n",
       "      <th>casual</th>\n",
       "      <th>registered</th>\n",
       "      <th>count</th>\n",
       "    </tr>\n",
       "  </thead>\n",
       "  <tbody>\n",
       "    <tr>\n",
       "      <th>0</th>\n",
       "      <td>2011-01-01 00:00:00</td>\n",
       "      <td>spring</td>\n",
       "      <td>0</td>\n",
       "      <td>0</td>\n",
       "      <td>clear</td>\n",
       "      <td>9.84</td>\n",
       "      <td>14.395</td>\n",
       "      <td>81</td>\n",
       "      <td>0.0</td>\n",
       "      <td>3</td>\n",
       "      <td>13</td>\n",
       "      <td>16</td>\n",
       "    </tr>\n",
       "    <tr>\n",
       "      <th>1</th>\n",
       "      <td>2011-01-01 01:00:00</td>\n",
       "      <td>spring</td>\n",
       "      <td>0</td>\n",
       "      <td>0</td>\n",
       "      <td>clear</td>\n",
       "      <td>9.02</td>\n",
       "      <td>13.635</td>\n",
       "      <td>80</td>\n",
       "      <td>0.0</td>\n",
       "      <td>8</td>\n",
       "      <td>32</td>\n",
       "      <td>40</td>\n",
       "    </tr>\n",
       "    <tr>\n",
       "      <th>2</th>\n",
       "      <td>2011-01-01 02:00:00</td>\n",
       "      <td>spring</td>\n",
       "      <td>0</td>\n",
       "      <td>0</td>\n",
       "      <td>clear</td>\n",
       "      <td>9.02</td>\n",
       "      <td>13.635</td>\n",
       "      <td>80</td>\n",
       "      <td>0.0</td>\n",
       "      <td>5</td>\n",
       "      <td>27</td>\n",
       "      <td>32</td>\n",
       "    </tr>\n",
       "    <tr>\n",
       "      <th>3</th>\n",
       "      <td>2011-01-01 03:00:00</td>\n",
       "      <td>spring</td>\n",
       "      <td>0</td>\n",
       "      <td>0</td>\n",
       "      <td>clear</td>\n",
       "      <td>9.84</td>\n",
       "      <td>14.395</td>\n",
       "      <td>75</td>\n",
       "      <td>0.0</td>\n",
       "      <td>3</td>\n",
       "      <td>10</td>\n",
       "      <td>13</td>\n",
       "    </tr>\n",
       "    <tr>\n",
       "      <th>4</th>\n",
       "      <td>2011-01-01 04:00:00</td>\n",
       "      <td>spring</td>\n",
       "      <td>0</td>\n",
       "      <td>0</td>\n",
       "      <td>clear</td>\n",
       "      <td>9.84</td>\n",
       "      <td>14.395</td>\n",
       "      <td>75</td>\n",
       "      <td>0.0</td>\n",
       "      <td>0</td>\n",
       "      <td>1</td>\n",
       "      <td>1</td>\n",
       "    </tr>\n",
       "  </tbody>\n",
       "</table>\n",
       "</div>"
      ],
      "text/plain": [
       "              datetime  season  holiday  workingday weather  temp   atemp  \\\n",
       "0  2011-01-01 00:00:00  spring        0           0   clear  9.84  14.395   \n",
       "1  2011-01-01 01:00:00  spring        0           0   clear  9.02  13.635   \n",
       "2  2011-01-01 02:00:00  spring        0           0   clear  9.02  13.635   \n",
       "3  2011-01-01 03:00:00  spring        0           0   clear  9.84  14.395   \n",
       "4  2011-01-01 04:00:00  spring        0           0   clear  9.84  14.395   \n",
       "\n",
       "   humidity  windspeed  casual  registered  count  \n",
       "0        81        0.0       3          13     16  \n",
       "1        80        0.0       8          32     40  \n",
       "2        80        0.0       5          27     32  \n",
       "3        75        0.0       3          10     13  \n",
       "4        75        0.0       0           1      1  "
      ]
     },
     "execution_count": 15,
     "metadata": {},
     "output_type": "execute_result"
    }
   ],
   "source": [
    "df.head()"
   ]
  },
  {
   "cell_type": "code",
   "execution_count": 19,
   "id": "82cb35ad",
   "metadata": {},
   "outputs": [],
   "source": [
    "# Let's divide the data into seasons and find outliers of count for each season \n",
    "df_spring=df[df['season']=='spring']"
   ]
  },
  {
   "cell_type": "code",
   "execution_count": 20,
   "id": "1e84e820",
   "metadata": {},
   "outputs": [
    {
     "name": "stdout",
     "output_type": "stream",
     "text": [
      "24.0 164.0 140.0\n"
     ]
    }
   ],
   "source": [
    "q1=df_spring['count'].quantile(0.25)\n",
    "q3=df_spring['count'].quantile(0.75)\n",
    "iqr=q3-q1\n",
    "print(q1,q3,iqr)"
   ]
  },
  {
   "cell_type": "code",
   "execution_count": 22,
   "id": "a9e47e6d",
   "metadata": {},
   "outputs": [
    {
     "data": {
      "text/plain": [
       "(2547, 12)"
      ]
     },
     "execution_count": 22,
     "metadata": {},
     "output_type": "execute_result"
    }
   ],
   "source": [
    "df_spring.shape"
   ]
  },
  {
   "cell_type": "code",
   "execution_count": 25,
   "id": "becba980",
   "metadata": {},
   "outputs": [
    {
     "data": {
      "text/html": [
       "<div>\n",
       "<style scoped>\n",
       "    .dataframe tbody tr th:only-of-type {\n",
       "        vertical-align: middle;\n",
       "    }\n",
       "\n",
       "    .dataframe tbody tr th {\n",
       "        vertical-align: top;\n",
       "    }\n",
       "\n",
       "    .dataframe thead th {\n",
       "        text-align: right;\n",
       "    }\n",
       "</style>\n",
       "<table border=\"1\" class=\"dataframe\">\n",
       "  <thead>\n",
       "    <tr style=\"text-align: right;\">\n",
       "      <th></th>\n",
       "      <th>datetime</th>\n",
       "      <th>season</th>\n",
       "      <th>holiday</th>\n",
       "      <th>workingday</th>\n",
       "      <th>weather</th>\n",
       "      <th>temp</th>\n",
       "      <th>atemp</th>\n",
       "      <th>humidity</th>\n",
       "      <th>windspeed</th>\n",
       "      <th>casual</th>\n",
       "      <th>registered</th>\n",
       "      <th>count</th>\n",
       "    </tr>\n",
       "  </thead>\n",
       "  <tbody>\n",
       "  </tbody>\n",
       "</table>\n",
       "</div>"
      ],
      "text/plain": [
       "Empty DataFrame\n",
       "Columns: [datetime, season, holiday, workingday, weather, temp, atemp, humidity, windspeed, casual, registered, count]\n",
       "Index: []"
      ]
     },
     "execution_count": 25,
     "metadata": {},
     "output_type": "execute_result"
    }
   ],
   "source": [
    "df_spring[(df_spring['count']<q1-((1.5)*iqr)) | (df_spring['count']>q3+((1.5)*iqr))]\n"
   ]
  },
  {
   "cell_type": "code",
   "execution_count": 26,
   "id": "6700e957",
   "metadata": {},
   "outputs": [],
   "source": [
    "# we do not have any outliers for spring season since we did not get any data above"
   ]
  },
  {
   "cell_type": "code",
   "execution_count": 27,
   "id": "14f963bf",
   "metadata": {},
   "outputs": [
    {
     "name": "stdout",
     "output_type": "stream",
     "text": [
      "49.0 321.0 272.0\n"
     ]
    }
   ],
   "source": [
    "# Let's check if we have outliers for any other season \n",
    "df_summer=df[df['season']=='summer']\n",
    "q1=df_summer['count'].quantile(0.25)\n",
    "q3=df_summer['count'].quantile(0.75)\n",
    "iqr=q3-q1\n",
    "print(q1,q3,iqr)"
   ]
  },
  {
   "cell_type": "code",
   "execution_count": 29,
   "id": "e007ae08",
   "metadata": {},
   "outputs": [
    {
     "data": {
      "text/plain": [
       "(2733, 12)"
      ]
     },
     "execution_count": 29,
     "metadata": {},
     "output_type": "execute_result"
    }
   ],
   "source": [
    "df_summer.shape"
   ]
  },
  {
   "cell_type": "code",
   "execution_count": 30,
   "id": "6bb2b1a6",
   "metadata": {},
   "outputs": [],
   "source": [
    "#Removing outliers from df_summer\n",
    "df_summer=df_summer[~((df_summer['count']<q1-((1.5)*iqr)) | (df_summer['count']>q3+((1.5)*iqr)))]"
   ]
  },
  {
   "cell_type": "code",
   "execution_count": 31,
   "id": "8ec89dab",
   "metadata": {},
   "outputs": [
    {
     "data": {
      "text/plain": [
       "(2691, 12)"
      ]
     },
     "execution_count": 31,
     "metadata": {},
     "output_type": "execute_result"
    }
   ],
   "source": [
    "df_summer.shape"
   ]
  },
  {
   "cell_type": "code",
   "execution_count": 32,
   "id": "983807bb",
   "metadata": {},
   "outputs": [
    {
     "name": "stdout",
     "output_type": "stream",
     "text": [
      "68.0 347.0 279.0\n"
     ]
    }
   ],
   "source": [
    "# Let's check if we have outliers for fall\n",
    "df_fall=df[df['season']=='fall']\n",
    "q1=df_fall['count'].quantile(0.25)\n",
    "q3=df_fall['count'].quantile(0.75)\n",
    "iqr=q3-q1\n",
    "print(q1,q3,iqr)"
   ]
  },
  {
   "cell_type": "code",
   "execution_count": 33,
   "id": "bf89754d",
   "metadata": {},
   "outputs": [
    {
     "data": {
      "text/plain": [
       "(2733, 12)"
      ]
     },
     "execution_count": 33,
     "metadata": {},
     "output_type": "execute_result"
    }
   ],
   "source": [
    "df_fall.shape"
   ]
  },
  {
   "cell_type": "code",
   "execution_count": 34,
   "id": "70c5d80b",
   "metadata": {},
   "outputs": [],
   "source": [
    "df_fall=df_fall[~((df_fall['count']<q1-((1.5)*iqr)) | (df_fall['count']>q3+((1.5)*iqr)))]"
   ]
  },
  {
   "cell_type": "code",
   "execution_count": 35,
   "id": "8931a357",
   "metadata": {},
   "outputs": [
    {
     "data": {
      "text/plain": [
       "(2672, 12)"
      ]
     },
     "execution_count": 35,
     "metadata": {},
     "output_type": "execute_result"
    }
   ],
   "source": [
    "df_fall.shape"
   ]
  },
  {
   "cell_type": "code",
   "execution_count": 36,
   "id": "e8d7164e",
   "metadata": {},
   "outputs": [
    {
     "name": "stdout",
     "output_type": "stream",
     "text": [
      "51.0 294.0 243.0\n"
     ]
    }
   ],
   "source": [
    "# Similarly let's check if we have outliers for winter \n",
    "df_winter=df[df['season']=='winter']\n",
    "q1=df_winter['count'].quantile(0.25)\n",
    "q3=df_winter['count'].quantile(0.75)\n",
    "iqr=q3-q1\n",
    "print(q1,q3,iqr)"
   ]
  },
  {
   "cell_type": "code",
   "execution_count": 37,
   "id": "e3fb989a",
   "metadata": {},
   "outputs": [
    {
     "data": {
      "text/plain": [
       "(2734, 12)"
      ]
     },
     "execution_count": 37,
     "metadata": {},
     "output_type": "execute_result"
    }
   ],
   "source": [
    "df_winter.shape"
   ]
  },
  {
   "cell_type": "code",
   "execution_count": 38,
   "id": "5eb814bc",
   "metadata": {},
   "outputs": [],
   "source": [
    "df_winter=df_winter[~((df_winter['count']<q1-((1.5)*iqr)) | (df_winter['count']>q3+((1.5)*iqr)))]"
   ]
  },
  {
   "cell_type": "code",
   "execution_count": 39,
   "id": "bc1878dc",
   "metadata": {},
   "outputs": [
    {
     "data": {
      "text/plain": [
       "(2670, 12)"
      ]
     },
     "execution_count": 39,
     "metadata": {},
     "output_type": "execute_result"
    }
   ],
   "source": [
    "df_winter.shape"
   ]
  },
  {
   "cell_type": "code",
   "execution_count": 41,
   "id": "da04beb2",
   "metadata": {},
   "outputs": [],
   "source": [
    "# Now that we have removed all the outliers wrt to season let's concat all the dfs\n",
    "\n",
    "df_final = pd.concat([df_spring,df_summer,df_fall,df_winter],ignore_index=True)"
   ]
  },
  {
   "cell_type": "code",
   "execution_count": 42,
   "id": "bd8c876e",
   "metadata": {},
   "outputs": [
    {
     "data": {
      "text/html": [
       "<div>\n",
       "<style scoped>\n",
       "    .dataframe tbody tr th:only-of-type {\n",
       "        vertical-align: middle;\n",
       "    }\n",
       "\n",
       "    .dataframe tbody tr th {\n",
       "        vertical-align: top;\n",
       "    }\n",
       "\n",
       "    .dataframe thead th {\n",
       "        text-align: right;\n",
       "    }\n",
       "</style>\n",
       "<table border=\"1\" class=\"dataframe\">\n",
       "  <thead>\n",
       "    <tr style=\"text-align: right;\">\n",
       "      <th></th>\n",
       "      <th>datetime</th>\n",
       "      <th>season</th>\n",
       "      <th>holiday</th>\n",
       "      <th>workingday</th>\n",
       "      <th>weather</th>\n",
       "      <th>temp</th>\n",
       "      <th>atemp</th>\n",
       "      <th>humidity</th>\n",
       "      <th>windspeed</th>\n",
       "      <th>casual</th>\n",
       "      <th>registered</th>\n",
       "      <th>count</th>\n",
       "    </tr>\n",
       "  </thead>\n",
       "  <tbody>\n",
       "    <tr>\n",
       "      <th>0</th>\n",
       "      <td>2011-01-01 00:00:00</td>\n",
       "      <td>spring</td>\n",
       "      <td>0</td>\n",
       "      <td>0</td>\n",
       "      <td>clear</td>\n",
       "      <td>9.84</td>\n",
       "      <td>14.395</td>\n",
       "      <td>81</td>\n",
       "      <td>0.0000</td>\n",
       "      <td>3</td>\n",
       "      <td>13</td>\n",
       "      <td>16</td>\n",
       "    </tr>\n",
       "    <tr>\n",
       "      <th>1</th>\n",
       "      <td>2011-01-01 01:00:00</td>\n",
       "      <td>spring</td>\n",
       "      <td>0</td>\n",
       "      <td>0</td>\n",
       "      <td>clear</td>\n",
       "      <td>9.02</td>\n",
       "      <td>13.635</td>\n",
       "      <td>80</td>\n",
       "      <td>0.0000</td>\n",
       "      <td>8</td>\n",
       "      <td>32</td>\n",
       "      <td>40</td>\n",
       "    </tr>\n",
       "    <tr>\n",
       "      <th>2</th>\n",
       "      <td>2011-01-01 02:00:00</td>\n",
       "      <td>spring</td>\n",
       "      <td>0</td>\n",
       "      <td>0</td>\n",
       "      <td>clear</td>\n",
       "      <td>9.02</td>\n",
       "      <td>13.635</td>\n",
       "      <td>80</td>\n",
       "      <td>0.0000</td>\n",
       "      <td>5</td>\n",
       "      <td>27</td>\n",
       "      <td>32</td>\n",
       "    </tr>\n",
       "    <tr>\n",
       "      <th>3</th>\n",
       "      <td>2011-01-01 03:00:00</td>\n",
       "      <td>spring</td>\n",
       "      <td>0</td>\n",
       "      <td>0</td>\n",
       "      <td>clear</td>\n",
       "      <td>9.84</td>\n",
       "      <td>14.395</td>\n",
       "      <td>75</td>\n",
       "      <td>0.0000</td>\n",
       "      <td>3</td>\n",
       "      <td>10</td>\n",
       "      <td>13</td>\n",
       "    </tr>\n",
       "    <tr>\n",
       "      <th>4</th>\n",
       "      <td>2011-01-01 04:00:00</td>\n",
       "      <td>spring</td>\n",
       "      <td>0</td>\n",
       "      <td>0</td>\n",
       "      <td>clear</td>\n",
       "      <td>9.84</td>\n",
       "      <td>14.395</td>\n",
       "      <td>75</td>\n",
       "      <td>0.0000</td>\n",
       "      <td>0</td>\n",
       "      <td>1</td>\n",
       "      <td>1</td>\n",
       "    </tr>\n",
       "    <tr>\n",
       "      <th>...</th>\n",
       "      <td>...</td>\n",
       "      <td>...</td>\n",
       "      <td>...</td>\n",
       "      <td>...</td>\n",
       "      <td>...</td>\n",
       "      <td>...</td>\n",
       "      <td>...</td>\n",
       "      <td>...</td>\n",
       "      <td>...</td>\n",
       "      <td>...</td>\n",
       "      <td>...</td>\n",
       "      <td>...</td>\n",
       "    </tr>\n",
       "    <tr>\n",
       "      <th>10575</th>\n",
       "      <td>2012-12-19 19:00:00</td>\n",
       "      <td>winter</td>\n",
       "      <td>0</td>\n",
       "      <td>1</td>\n",
       "      <td>clear</td>\n",
       "      <td>15.58</td>\n",
       "      <td>19.695</td>\n",
       "      <td>50</td>\n",
       "      <td>26.0027</td>\n",
       "      <td>7</td>\n",
       "      <td>329</td>\n",
       "      <td>336</td>\n",
       "    </tr>\n",
       "    <tr>\n",
       "      <th>10576</th>\n",
       "      <td>2012-12-19 20:00:00</td>\n",
       "      <td>winter</td>\n",
       "      <td>0</td>\n",
       "      <td>1</td>\n",
       "      <td>clear</td>\n",
       "      <td>14.76</td>\n",
       "      <td>17.425</td>\n",
       "      <td>57</td>\n",
       "      <td>15.0013</td>\n",
       "      <td>10</td>\n",
       "      <td>231</td>\n",
       "      <td>241</td>\n",
       "    </tr>\n",
       "    <tr>\n",
       "      <th>10577</th>\n",
       "      <td>2012-12-19 21:00:00</td>\n",
       "      <td>winter</td>\n",
       "      <td>0</td>\n",
       "      <td>1</td>\n",
       "      <td>clear</td>\n",
       "      <td>13.94</td>\n",
       "      <td>15.910</td>\n",
       "      <td>61</td>\n",
       "      <td>15.0013</td>\n",
       "      <td>4</td>\n",
       "      <td>164</td>\n",
       "      <td>168</td>\n",
       "    </tr>\n",
       "    <tr>\n",
       "      <th>10578</th>\n",
       "      <td>2012-12-19 22:00:00</td>\n",
       "      <td>winter</td>\n",
       "      <td>0</td>\n",
       "      <td>1</td>\n",
       "      <td>clear</td>\n",
       "      <td>13.94</td>\n",
       "      <td>17.425</td>\n",
       "      <td>61</td>\n",
       "      <td>6.0032</td>\n",
       "      <td>12</td>\n",
       "      <td>117</td>\n",
       "      <td>129</td>\n",
       "    </tr>\n",
       "    <tr>\n",
       "      <th>10579</th>\n",
       "      <td>2012-12-19 23:00:00</td>\n",
       "      <td>winter</td>\n",
       "      <td>0</td>\n",
       "      <td>1</td>\n",
       "      <td>clear</td>\n",
       "      <td>13.12</td>\n",
       "      <td>16.665</td>\n",
       "      <td>66</td>\n",
       "      <td>8.9981</td>\n",
       "      <td>4</td>\n",
       "      <td>84</td>\n",
       "      <td>88</td>\n",
       "    </tr>\n",
       "  </tbody>\n",
       "</table>\n",
       "<p>10580 rows × 12 columns</p>\n",
       "</div>"
      ],
      "text/plain": [
       "                  datetime  season  holiday  workingday weather   temp  \\\n",
       "0      2011-01-01 00:00:00  spring        0           0   clear   9.84   \n",
       "1      2011-01-01 01:00:00  spring        0           0   clear   9.02   \n",
       "2      2011-01-01 02:00:00  spring        0           0   clear   9.02   \n",
       "3      2011-01-01 03:00:00  spring        0           0   clear   9.84   \n",
       "4      2011-01-01 04:00:00  spring        0           0   clear   9.84   \n",
       "...                    ...     ...      ...         ...     ...    ...   \n",
       "10575  2012-12-19 19:00:00  winter        0           1   clear  15.58   \n",
       "10576  2012-12-19 20:00:00  winter        0           1   clear  14.76   \n",
       "10577  2012-12-19 21:00:00  winter        0           1   clear  13.94   \n",
       "10578  2012-12-19 22:00:00  winter        0           1   clear  13.94   \n",
       "10579  2012-12-19 23:00:00  winter        0           1   clear  13.12   \n",
       "\n",
       "        atemp  humidity  windspeed  casual  registered  count  \n",
       "0      14.395        81     0.0000       3          13     16  \n",
       "1      13.635        80     0.0000       8          32     40  \n",
       "2      13.635        80     0.0000       5          27     32  \n",
       "3      14.395        75     0.0000       3          10     13  \n",
       "4      14.395        75     0.0000       0           1      1  \n",
       "...       ...       ...        ...     ...         ...    ...  \n",
       "10575  19.695        50    26.0027       7         329    336  \n",
       "10576  17.425        57    15.0013      10         231    241  \n",
       "10577  15.910        61    15.0013       4         164    168  \n",
       "10578  17.425        61     6.0032      12         117    129  \n",
       "10579  16.665        66     8.9981       4          84     88  \n",
       "\n",
       "[10580 rows x 12 columns]"
      ]
     },
     "execution_count": 42,
     "metadata": {},
     "output_type": "execute_result"
    }
   ],
   "source": [
    "df_final"
   ]
  },
  {
   "cell_type": "code",
   "execution_count": 44,
   "id": "87106b33",
   "metadata": {},
   "outputs": [
    {
     "data": {
      "image/png": "[encoded data removed]",
      "text/plain": [
       "<Figure size 2000x1600 with 4 Axes>"
      ]
     },
     "metadata": {},
     "output_type": "display_data"
    }
   ],
   "source": [
    "# Let's check how the count varies with working day, holiday, season, weather\n",
    "\n",
    "fig,axes=plt.subplots(2,2,figsize=(20,16))\n",
    "sns.boxplot(data=df_final,x='workingday',y='count',ax=axes[0,0])\n",
    "sns.boxplot(data=df_final,x='holiday',y='count',ax=axes[0,1])\n",
    "sns.boxplot(data=df_final,x='season',y='count',ax=axes[1,0])\n",
    "sns.boxplot(data=df_final,x='weather',y='count',ax=axes[1,1])\n",
    "plt.show()"
   ]
  },
  {
   "cell_type": "code",
   "execution_count": 45,
   "id": "471862e0",
   "metadata": {},
   "outputs": [],
   "source": [
    "# Inferences from the above boxplots are\n",
    "# 1) The count of cycles seems to be more when there is clear weather\n",
    "# 2) The count of cycles seems to be more in summer and fall seasons compared to spring\n",
    "# 3) The count of medians of count of cycles on working days and holidays seems comparable "
   ]
  },
  {
   "cell_type": "code",
   "execution_count": 46,
   "id": "8eaf81bf",
   "metadata": {},
   "outputs": [],
   "source": [
    "# Let's separate hours into a separate column \n",
    "df_final['datetime']=pd.to_datetime(df_final['datetime'])\n",
    "df_final['hour']=df_final['datetime'].dt.hour"
   ]
  },
  {
   "cell_type": "code",
   "execution_count": 47,
   "id": "35e40d5e",
   "metadata": {},
   "outputs": [
    {
     "data": {
      "text/html": [
       "<div>\n",
       "<style scoped>\n",
       "    .dataframe tbody tr th:only-of-type {\n",
       "        vertical-align: middle;\n",
       "    }\n",
       "\n",
       "    .dataframe tbody tr th {\n",
       "        vertical-align: top;\n",
       "    }\n",
       "\n",
       "    .dataframe thead th {\n",
       "        text-align: right;\n",
       "    }\n",
       "</style>\n",
       "<table border=\"1\" class=\"dataframe\">\n",
       "  <thead>\n",
       "    <tr style=\"text-align: right;\">\n",
       "      <th></th>\n",
       "      <th>datetime</th>\n",
       "      <th>season</th>\n",
       "      <th>holiday</th>\n",
       "      <th>workingday</th>\n",
       "      <th>weather</th>\n",
       "      <th>temp</th>\n",
       "      <th>atemp</th>\n",
       "      <th>humidity</th>\n",
       "      <th>windspeed</th>\n",
       "      <th>casual</th>\n",
       "      <th>registered</th>\n",
       "      <th>count</th>\n",
       "      <th>hour</th>\n",
       "    </tr>\n",
       "  </thead>\n",
       "  <tbody>\n",
       "    <tr>\n",
       "      <th>0</th>\n",
       "      <td>2011-01-01 00:00:00</td>\n",
       "      <td>spring</td>\n",
       "      <td>0</td>\n",
       "      <td>0</td>\n",
       "      <td>clear</td>\n",
       "      <td>9.84</td>\n",
       "      <td>14.395</td>\n",
       "      <td>81</td>\n",
       "      <td>0.0</td>\n",
       "      <td>3</td>\n",
       "      <td>13</td>\n",
       "      <td>16</td>\n",
       "      <td>0</td>\n",
       "    </tr>\n",
       "    <tr>\n",
       "      <th>1</th>\n",
       "      <td>2011-01-01 01:00:00</td>\n",
       "      <td>spring</td>\n",
       "      <td>0</td>\n",
       "      <td>0</td>\n",
       "      <td>clear</td>\n",
       "      <td>9.02</td>\n",
       "      <td>13.635</td>\n",
       "      <td>80</td>\n",
       "      <td>0.0</td>\n",
       "      <td>8</td>\n",
       "      <td>32</td>\n",
       "      <td>40</td>\n",
       "      <td>1</td>\n",
       "    </tr>\n",
       "    <tr>\n",
       "      <th>2</th>\n",
       "      <td>2011-01-01 02:00:00</td>\n",
       "      <td>spring</td>\n",
       "      <td>0</td>\n",
       "      <td>0</td>\n",
       "      <td>clear</td>\n",
       "      <td>9.02</td>\n",
       "      <td>13.635</td>\n",
       "      <td>80</td>\n",
       "      <td>0.0</td>\n",
       "      <td>5</td>\n",
       "      <td>27</td>\n",
       "      <td>32</td>\n",
       "      <td>2</td>\n",
       "    </tr>\n",
       "    <tr>\n",
       "      <th>3</th>\n",
       "      <td>2011-01-01 03:00:00</td>\n",
       "      <td>spring</td>\n",
       "      <td>0</td>\n",
       "      <td>0</td>\n",
       "      <td>clear</td>\n",
       "      <td>9.84</td>\n",
       "      <td>14.395</td>\n",
       "      <td>75</td>\n",
       "      <td>0.0</td>\n",
       "      <td>3</td>\n",
       "      <td>10</td>\n",
       "      <td>13</td>\n",
       "      <td>3</td>\n",
       "    </tr>\n",
       "    <tr>\n",
       "      <th>4</th>\n",
       "      <td>2011-01-01 04:00:00</td>\n",
       "      <td>spring</td>\n",
       "      <td>0</td>\n",
       "      <td>0</td>\n",
       "      <td>clear</td>\n",
       "      <td>9.84</td>\n",
       "      <td>14.395</td>\n",
       "      <td>75</td>\n",
       "      <td>0.0</td>\n",
       "      <td>0</td>\n",
       "      <td>1</td>\n",
       "      <td>1</td>\n",
       "      <td>4</td>\n",
       "    </tr>\n",
       "  </tbody>\n",
       "</table>\n",
       "</div>"
      ],
      "text/plain": [
       "             datetime  season  holiday  workingday weather  temp   atemp  \\\n",
       "0 2011-01-01 00:00:00  spring        0           0   clear  9.84  14.395   \n",
       "1 2011-01-01 01:00:00  spring        0           0   clear  9.02  13.635   \n",
       "2 2011-01-01 02:00:00  spring        0           0   clear  9.02  13.635   \n",
       "3 2011-01-01 03:00:00  spring        0           0   clear  9.84  14.395   \n",
       "4 2011-01-01 04:00:00  spring        0           0   clear  9.84  14.395   \n",
       "\n",
       "   humidity  windspeed  casual  registered  count  hour  \n",
       "0        81        0.0       3          13     16     0  \n",
       "1        80        0.0       8          32     40     1  \n",
       "2        80        0.0       5          27     32     2  \n",
       "3        75        0.0       3          10     13     3  \n",
       "4        75        0.0       0           1      1     4  "
      ]
     },
     "execution_count": 47,
     "metadata": {},
     "output_type": "execute_result"
    }
   ],
   "source": [
    "df_final.head()"
   ]
  },
  {
   "cell_type": "code",
   "execution_count": 53,
   "id": "bbaf71ee",
   "metadata": {},
   "outputs": [
    {
     "data": {
      "image/png": "[encoded data removed]",
      "text/plain": [
       "<Figure size 640x480 with 1 Axes>"
      ]
     },
     "metadata": {},
     "output_type": "display_data"
    }
   ],
   "source": [
    "# Let's check the peakhours for Yulu \n",
    "sns.lineplot(data=df_final,x='hour',y='count',hue='workingday')\n",
    "plt.show()"
   ]
  },
  {
   "cell_type": "code",
   "execution_count": 55,
   "id": "230e2166",
   "metadata": {},
   "outputs": [],
   "source": [
    "# Inferences from above plot\n",
    "# 1) The peak hours for Yulu on working days is around start of working hours i.e around 8:30 am to 9 am and evening during \n",
    "# 5:30 pm to 6 pm \n",
    "# 2) The peak hours for non working days is around 11 am, probably i.e when people go out for small errands"
   ]
  },
  {
   "cell_type": "code",
   "execution_count": 64,
   "id": "493b749f",
   "metadata": {},
   "outputs": [
    {
     "data": {
      "image/png": "[encoded data removed]",
      "text/plain": [
       "<Figure size 2000x1600 with 4 Axes>"
      ]
     },
     "metadata": {},
     "output_type": "display_data"
    }
   ],
   "source": [
    "# Let's check the barlots for differet categorical data\n",
    "fig,axes=plt.subplots(2,2,figsize=(20,16))\n",
    "sns.barplot(data=df_final,x='season',y='count',ax=axes[0,0])\n",
    "sns.barplot(data=df_final,x='holiday',y='count',ax=axes[0,1])\n",
    "sns.barplot(data=df_final,x='workingday',y='count',ax=axes[1,0])\n",
    "sns.barplot(data=df_final,x='weather',y='count',ax=axes[1,1])\n",
    "plt.show()"
   ]
  },
  {
   "cell_type": "code",
   "execution_count": 65,
   "id": "a633c0e6",
   "metadata": {},
   "outputs": [
    {
     "data": {
      "image/png": "[encoded data removed]",
      "text/plain": [
       "<Figure size 640x480 with 1 Axes>"
      ]
     },
     "metadata": {},
     "output_type": "display_data"
    }
   ],
   "source": [
    "sns.barplot(data=df_final,x='hour',y='count')\n",
    "plt.show()"
   ]
  },
  {
   "cell_type": "code",
   "execution_count": 70,
   "id": "68247de7",
   "metadata": {},
   "outputs": [
    {
     "data": {
      "image/png": "[encoded data removed]",
      "text/plain": [
       "<Figure size 640x480 with 2 Axes>"
      ]
     },
     "metadata": {},
     "output_type": "display_data"
    }
   ],
   "source": [
    "# Let's now do some analysis on numerical columns\n",
    "df_final.head()\n",
    "# Let's find relation between temperature/count and also atemp and count \n",
    "\n",
    "heatmap_matrix=df_final[['temp','count']].corr()\n",
    "sns.heatmap(heatmap_matrix,annot=True)\n",
    "plt.show()"
   ]
  },
  {
   "cell_type": "code",
   "execution_count": 71,
   "id": "e917f133",
   "metadata": {},
   "outputs": [],
   "source": [
    "# We can see slightly positive correlation of temperature and count"
   ]
  },
  {
   "cell_type": "code",
   "execution_count": 73,
   "id": "f8895848",
   "metadata": {},
   "outputs": [
    {
     "data": {
      "image/png": "[encoded data removed]",
      "text/plain": [
       "<Figure size 640x480 with 2 Axes>"
      ]
     },
     "metadata": {},
     "output_type": "display_data"
    }
   ],
   "source": [
    "heatmap_matrix =df[['atemp','count']].corr()\n",
    "sns.heatmap(heatmap_matrix,annot=True)\n",
    "plt.show()"
   ]
  },
  {
   "cell_type": "code",
   "execution_count": 74,
   "id": "9d1e1ad4",
   "metadata": {},
   "outputs": [
    {
     "data": {
      "text/html": [
       "<div>\n",
       "<style scoped>\n",
       "    .dataframe tbody tr th:only-of-type {\n",
       "        vertical-align: middle;\n",
       "    }\n",
       "\n",
       "    .dataframe tbody tr th {\n",
       "        vertical-align: top;\n",
       "    }\n",
       "\n",
       "    .dataframe thead th {\n",
       "        text-align: right;\n",
       "    }\n",
       "</style>\n",
       "<table border=\"1\" class=\"dataframe\">\n",
       "  <thead>\n",
       "    <tr style=\"text-align: right;\">\n",
       "      <th></th>\n",
       "      <th>datetime</th>\n",
       "      <th>season</th>\n",
       "      <th>holiday</th>\n",
       "      <th>workingday</th>\n",
       "      <th>weather</th>\n",
       "      <th>temp</th>\n",
       "      <th>atemp</th>\n",
       "      <th>humidity</th>\n",
       "      <th>windspeed</th>\n",
       "      <th>casual</th>\n",
       "      <th>registered</th>\n",
       "      <th>count</th>\n",
       "      <th>hour</th>\n",
       "    </tr>\n",
       "  </thead>\n",
       "  <tbody>\n",
       "    <tr>\n",
       "      <th>0</th>\n",
       "      <td>2011-01-01 00:00:00</td>\n",
       "      <td>spring</td>\n",
       "      <td>0</td>\n",
       "      <td>0</td>\n",
       "      <td>clear</td>\n",
       "      <td>9.84</td>\n",
       "      <td>14.395</td>\n",
       "      <td>81</td>\n",
       "      <td>0.0</td>\n",
       "      <td>3</td>\n",
       "      <td>13</td>\n",
       "      <td>16</td>\n",
       "      <td>0</td>\n",
       "    </tr>\n",
       "    <tr>\n",
       "      <th>1</th>\n",
       "      <td>2011-01-01 01:00:00</td>\n",
       "      <td>spring</td>\n",
       "      <td>0</td>\n",
       "      <td>0</td>\n",
       "      <td>clear</td>\n",
       "      <td>9.02</td>\n",
       "      <td>13.635</td>\n",
       "      <td>80</td>\n",
       "      <td>0.0</td>\n",
       "      <td>8</td>\n",
       "      <td>32</td>\n",
       "      <td>40</td>\n",
       "      <td>1</td>\n",
       "    </tr>\n",
       "    <tr>\n",
       "      <th>2</th>\n",
       "      <td>2011-01-01 02:00:00</td>\n",
       "      <td>spring</td>\n",
       "      <td>0</td>\n",
       "      <td>0</td>\n",
       "      <td>clear</td>\n",
       "      <td>9.02</td>\n",
       "      <td>13.635</td>\n",
       "      <td>80</td>\n",
       "      <td>0.0</td>\n",
       "      <td>5</td>\n",
       "      <td>27</td>\n",
       "      <td>32</td>\n",
       "      <td>2</td>\n",
       "    </tr>\n",
       "    <tr>\n",
       "      <th>3</th>\n",
       "      <td>2011-01-01 03:00:00</td>\n",
       "      <td>spring</td>\n",
       "      <td>0</td>\n",
       "      <td>0</td>\n",
       "      <td>clear</td>\n",
       "      <td>9.84</td>\n",
       "      <td>14.395</td>\n",
       "      <td>75</td>\n",
       "      <td>0.0</td>\n",
       "      <td>3</td>\n",
       "      <td>10</td>\n",
       "      <td>13</td>\n",
       "      <td>3</td>\n",
       "    </tr>\n",
       "    <tr>\n",
       "      <th>4</th>\n",
       "      <td>2011-01-01 04:00:00</td>\n",
       "      <td>spring</td>\n",
       "      <td>0</td>\n",
       "      <td>0</td>\n",
       "      <td>clear</td>\n",
       "      <td>9.84</td>\n",
       "      <td>14.395</td>\n",
       "      <td>75</td>\n",
       "      <td>0.0</td>\n",
       "      <td>0</td>\n",
       "      <td>1</td>\n",
       "      <td>1</td>\n",
       "      <td>4</td>\n",
       "    </tr>\n",
       "  </tbody>\n",
       "</table>\n",
       "</div>"
      ],
      "text/plain": [
       "             datetime  season  holiday  workingday weather  temp   atemp  \\\n",
       "0 2011-01-01 00:00:00  spring        0           0   clear  9.84  14.395   \n",
       "1 2011-01-01 01:00:00  spring        0           0   clear  9.02  13.635   \n",
       "2 2011-01-01 02:00:00  spring        0           0   clear  9.02  13.635   \n",
       "3 2011-01-01 03:00:00  spring        0           0   clear  9.84  14.395   \n",
       "4 2011-01-01 04:00:00  spring        0           0   clear  9.84  14.395   \n",
       "\n",
       "   humidity  windspeed  casual  registered  count  hour  \n",
       "0        81        0.0       3          13     16     0  \n",
       "1        80        0.0       8          32     40     1  \n",
       "2        80        0.0       5          27     32     2  \n",
       "3        75        0.0       3          10     13     3  \n",
       "4        75        0.0       0           1      1     4  "
      ]
     },
     "execution_count": 74,
     "metadata": {},
     "output_type": "execute_result"
    }
   ],
   "source": [
    "df_final.head()"
   ]
  },
  {
   "cell_type": "code",
   "execution_count": 75,
   "id": "8f7fd3ea",
   "metadata": {},
   "outputs": [],
   "source": [
    "# Let's dive deep to check whether there is significant diffenece in the count of cycles on working days"
   ]
  },
  {
   "cell_type": "code",
   "execution_count": 76,
   "id": "88fb79b0",
   "metadata": {},
   "outputs": [],
   "source": [
    "# As seen in the above barplots and boxplots count of cycles is comparable on working days and holidays"
   ]
  },
  {
   "cell_type": "code",
   "execution_count": 85,
   "id": "547a854b",
   "metadata": {},
   "outputs": [
    {
     "data": {
      "text/plain": [
       "workingday\n",
       "1    7154\n",
       "0    3426\n",
       "Name: count, dtype: int64"
      ]
     },
     "execution_count": 85,
     "metadata": {},
     "output_type": "execute_result"
    }
   ],
   "source": [
    "# Let's peroform hypothesis testing to know the same \n",
    "\n",
    "# H0 : The count of cycles on a working day <= the count of cycles on non- working day\n",
    "# Ha : The count of cycles on working day  > the count cycles on non-working day \n",
    "\n",
    "# let's say the significance level is 5% \n",
    "\n",
    "alpha=0.05\n",
    "\n",
    "df_final['workingday'].value_counts()"
   ]
  },
  {
   "cell_type": "code",
   "execution_count": 86,
   "id": "e40ec439",
   "metadata": {},
   "outputs": [],
   "source": [
    "# Since there are less number of non working days in the data, it is advisable to take same number of working days to compare \n",
    "# This is being done to decrease the biasness as there will be less variance in a bigger sample"
   ]
  },
  {
   "cell_type": "code",
   "execution_count": 87,
   "id": "c134bc17",
   "metadata": {},
   "outputs": [],
   "source": [
    "df_work=df_final[df_final['workingday']==1]['count'].sample(3426)\n",
    "df_nowork=df_final[df_final['workingday']==0]['count'].sample(3426)"
   ]
  },
  {
   "cell_type": "code",
   "execution_count": 88,
   "id": "9f68b005",
   "metadata": {},
   "outputs": [
    {
     "data": {
      "text/plain": [
       "workingday\n",
       "0    169.549987\n",
       "1    158.474373\n",
       "Name: count, dtype: float64"
      ]
     },
     "execution_count": 88,
     "metadata": {},
     "output_type": "execute_result"
    }
   ],
   "source": [
    "# Let's apply ttest_independent on this as we have only 2 different categories vs 1 numerical variable \n",
    "# Let's check the variances of df_work and df_nowork \n",
    "df_final.groupby('workingday')['count'].std()\n"
   ]
  },
  {
   "cell_type": "code",
   "execution_count": 89,
   "id": "290cf367",
   "metadata": {},
   "outputs": [],
   "source": [
    "# As we can see above the std dev is different for both which indicates diffenece in variances"
   ]
  },
  {
   "cell_type": "code",
   "execution_count": 90,
   "id": "da5bdaf6",
   "metadata": {},
   "outputs": [
    {
     "name": "stdout",
     "output_type": "stream",
     "text": [
      "0.9790417930266817\n",
      "Accept the null hypothesis\n"
     ]
    }
   ],
   "source": [
    "t_stat,p_val=scipy.stats.ttest_ind(df_work,df_nowork,equal_var=False,alternative='greater')\n",
    "\n",
    "print(p_val)\n",
    "\n",
    "if p_val<alpha:\n",
    "    print(\"Reject the null hypothesis\")\n",
    "else:\n",
    "    print(\"Accept the null hypothesis\")\n"
   ]
  },
  {
   "cell_type": "code",
   "execution_count": 91,
   "id": "9e5eba43",
   "metadata": {},
   "outputs": [],
   "source": [
    "# Since p_val is greater than alpha we can easily say that we have to accept null hypothesis which implies\n",
    "# count of cycles on working day is less than non working days"
   ]
  },
  {
   "cell_type": "code",
   "execution_count": 94,
   "id": "ef6af7c9",
   "metadata": {},
   "outputs": [
    {
     "data": {
      "text/html": [
       "<div>\n",
       "<style scoped>\n",
       "    .dataframe tbody tr th:only-of-type {\n",
       "        vertical-align: middle;\n",
       "    }\n",
       "\n",
       "    .dataframe tbody tr th {\n",
       "        vertical-align: top;\n",
       "    }\n",
       "\n",
       "    .dataframe thead th {\n",
       "        text-align: right;\n",
       "    }\n",
       "</style>\n",
       "<table border=\"1\" class=\"dataframe\">\n",
       "  <thead>\n",
       "    <tr style=\"text-align: right;\">\n",
       "      <th></th>\n",
       "      <th>count</th>\n",
       "      <th>mean</th>\n",
       "      <th>std</th>\n",
       "      <th>min</th>\n",
       "      <th>25%</th>\n",
       "      <th>50%</th>\n",
       "      <th>75%</th>\n",
       "      <th>max</th>\n",
       "    </tr>\n",
       "    <tr>\n",
       "      <th>season</th>\n",
       "      <th></th>\n",
       "      <th></th>\n",
       "      <th></th>\n",
       "      <th></th>\n",
       "      <th></th>\n",
       "      <th></th>\n",
       "      <th></th>\n",
       "      <th></th>\n",
       "    </tr>\n",
       "  </thead>\n",
       "  <tbody>\n",
       "    <tr>\n",
       "      <th>fall</th>\n",
       "      <td>2672.0</td>\n",
       "      <td>220.631737</td>\n",
       "      <td>176.588088</td>\n",
       "      <td>1.0</td>\n",
       "      <td>64.0</td>\n",
       "      <td>189.5</td>\n",
       "      <td>334.0</td>\n",
       "      <td>758.0</td>\n",
       "    </tr>\n",
       "    <tr>\n",
       "      <th>spring</th>\n",
       "      <td>2547.0</td>\n",
       "      <td>95.441696</td>\n",
       "      <td>87.007314</td>\n",
       "      <td>1.0</td>\n",
       "      <td>22.0</td>\n",
       "      <td>74.0</td>\n",
       "      <td>144.5</td>\n",
       "      <td>369.0</td>\n",
       "    </tr>\n",
       "    <tr>\n",
       "      <th>summer</th>\n",
       "      <td>2691.0</td>\n",
       "      <td>206.194352</td>\n",
       "      <td>179.091965</td>\n",
       "      <td>1.0</td>\n",
       "      <td>47.0</td>\n",
       "      <td>169.0</td>\n",
       "      <td>312.5</td>\n",
       "      <td>729.0</td>\n",
       "    </tr>\n",
       "    <tr>\n",
       "      <th>winter</th>\n",
       "      <td>2670.0</td>\n",
       "      <td>185.453558</td>\n",
       "      <td>155.963861</td>\n",
       "      <td>1.0</td>\n",
       "      <td>49.0</td>\n",
       "      <td>154.0</td>\n",
       "      <td>278.0</td>\n",
       "      <td>654.0</td>\n",
       "    </tr>\n",
       "  </tbody>\n",
       "</table>\n",
       "</div>"
      ],
      "text/plain": [
       "         count        mean         std  min   25%    50%    75%    max\n",
       "season                                                                \n",
       "fall    2672.0  220.631737  176.588088  1.0  64.0  189.5  334.0  758.0\n",
       "spring  2547.0   95.441696   87.007314  1.0  22.0   74.0  144.5  369.0\n",
       "summer  2691.0  206.194352  179.091965  1.0  47.0  169.0  312.5  729.0\n",
       "winter  2670.0  185.453558  155.963861  1.0  49.0  154.0  278.0  654.0"
      ]
     },
     "execution_count": 94,
     "metadata": {},
     "output_type": "execute_result"
    }
   ],
   "source": [
    "# Let's now check if there is impact of seasons on count of cycles \n",
    "df_final.groupby('season')['count'].describe()"
   ]
  },
  {
   "cell_type": "code",
   "execution_count": 95,
   "id": "1d95cfe8",
   "metadata": {},
   "outputs": [],
   "source": [
    "# Just by seeing the summary table we can say that there is a differnece in mean count\n",
    "# of cycles for spring which is lower, we will still apply analysis and check"
   ]
  },
  {
   "cell_type": "code",
   "execution_count": 96,
   "id": "c4cb9bb4",
   "metadata": {},
   "outputs": [],
   "source": [
    "# Since there are more than 2 categories of seasons, it's better for us to go with Anova test"
   ]
  },
  {
   "cell_type": "code",
   "execution_count": 97,
   "id": "442f2a99",
   "metadata": {},
   "outputs": [
    {
     "data": {
      "text/plain": [
       "season\n",
       "summer    2691\n",
       "fall      2672\n",
       "winter    2670\n",
       "spring    2547\n",
       "Name: count, dtype: int64"
      ]
     },
     "execution_count": 97,
     "metadata": {},
     "output_type": "execute_result"
    }
   ],
   "source": [
    "df_final['season'].value_counts()"
   ]
  },
  {
   "cell_type": "code",
   "execution_count": 98,
   "id": "2d9b7927",
   "metadata": {},
   "outputs": [
    {
     "name": "stdout",
     "output_type": "stream",
     "text": [
      "summer data: (0.9085634350776672, 1.7675445214538028e-37), Fall data: (0.9323176145553589, 3.3501787363106895e-33), Winter data: (0.9180989265441895, 8.392706088240139e-36), Spring data: (0.8928084969520569, 6.46495072099651e-39)\n"
     ]
    }
   ],
   "source": [
    "# We have almost equal data for all types of seasons\n",
    "df_s=df_final[df_final['season']=='summer']['count']\n",
    "df_f=df_final[df_final['season']=='fall']['count']\n",
    "df_w=df_final[df_final['season']=='winter']['count']\n",
    "df_sp=df_final[df_final['season']=='spring']['count']\n",
    "\n",
    "# Assumptions to apply anova test are as follows:\n",
    "# 1) The data should be normal\n",
    "# 2) There should be equal variances between the groups \n",
    "# 3) Data should be random and independent\n",
    "\n",
    "# Let's check if the data is normal:\n",
    "\n",
    "# H0: Data is normally distributed \n",
    "# HA: Data is not normally distributed\n",
    "    \n",
    "stats,p_vals=scipy.stats.shapiro(df_s)\n",
    "statf,p_valf=scipy.stats.shapiro(df_f)\n",
    "statw,p_valw=scipy.stats.shapiro(df_w)\n",
    "statsp,p_valsp=scipy.stats.shapiro(df_sp)\n",
    "\n",
    "print(f\"summer data: {(stats,p_vals)}, Fall data: {(statf,p_valf)}, Winter data: {(statw,p_valw)}, Spring data: {(statsp,p_valsp)}\")\n"
   ]
  },
  {
   "cell_type": "code",
   "execution_count": 99,
   "id": "63781e3a",
   "metadata": {},
   "outputs": [],
   "source": [
    "# As you can see the above data, all the p_vals are very low which implies none of the data is normally distributed"
   ]
  },
  {
   "cell_type": "code",
   "execution_count": 104,
   "id": "0d539267",
   "metadata": {},
   "outputs": [
    {
     "data": {
      "image/png": "[encoded data removed]",
      "text/plain": [
       "<Figure size 1000x800 with 4 Axes>"
      ]
     },
     "metadata": {},
     "output_type": "display_data"
    }
   ],
   "source": [
    "# We can plot a histplot and check, whether visually the data is normal or not\n",
    "\n",
    "fig,axes=plt.subplots(2,2,figsize=(10,8))\n",
    "sns.histplot(df_s,kde=True,bins=40,ax=axes[0,0])\n",
    "sns.histplot(df_f,kde=True,bins=40,ax=axes[0,1])\n",
    "sns.histplot(df_w,kde=True,bins=40,ax=axes[1,0])\n",
    "sns.histplot(df_sp,kde=True,bins=40,ax=axes[1,1])\n",
    "axes[0,0].set_title(\"DIstribution of count of cycles in Summer\")\n",
    "axes[0,1].set_title(\"DIstribution of count of cycles in Fall\")\n",
    "axes[1,0].set_title(\"DIstribution of count of cycles in Winter\")\n",
    "axes[1,1].set_title(\"DIstribution of count of cycles in Spring\")\n",
    "plt.show()"
   ]
  },
  {
   "cell_type": "code",
   "execution_count": 105,
   "id": "c28af9c5",
   "metadata": {},
   "outputs": [],
   "source": [
    "# None of the data is normally distributed so first assumption of normality does not hold true"
   ]
  },
  {
   "cell_type": "code",
   "execution_count": 108,
   "id": "fa3ec49a",
   "metadata": {},
   "outputs": [
    {
     "name": "stdout",
     "output_type": "stream",
     "text": [
      "6.36911684683247e-215\n",
      "Variances are not equal\n"
     ]
    }
   ],
   "source": [
    "# Now let's check whether variances are equal among different seasons\n",
    "\n",
    "# H0: Equal variances among different seasons\n",
    "# HA: Variances are not equal\n",
    "\n",
    "l_test,pval=scipy.stats.levene(df_s,df_f,df_w,df_sp)\n",
    "print(pval)\n",
    "\n",
    "if pval<0.5:\n",
    "    print('Variances are not equal')\n",
    "else:\n",
    "    print(\"Variances are equal among different seasons\")"
   ]
  },
  {
   "cell_type": "code",
   "execution_count": 111,
   "id": "77bfa8e9",
   "metadata": {},
   "outputs": [
    {
     "name": "stdout",
     "output_type": "stream",
     "text": [
      "1.1661380939057576e-188\n",
      "Season does impact the count of cycles used\n"
     ]
    }
   ],
   "source": [
    "# The second assumption of Anova also failed \n",
    "# Therefore we can apply kruskal wallis test instead of Anova \n",
    "\n",
    "k_test,p_val=scipy.stats.kruskal(df_s,df_f,df_w,df_sp)\n",
    "\n",
    "print(p_val)\n",
    "if p_val<0.05:\n",
    "    print('Season does impact the count of cycles used')\n",
    "else:\n",
    "    print('Season does not impact the count of cycles used')"
   ]
  },
  {
   "cell_type": "code",
   "execution_count": 112,
   "id": "ad1667e6",
   "metadata": {},
   "outputs": [
    {
     "data": {
      "text/plain": [
       "weather\n",
       "clear         6957\n",
       "Mist          2776\n",
       "light rain     846\n",
       "heavy rain       1\n",
       "Name: count, dtype: int64"
      ]
     },
     "execution_count": 112,
     "metadata": {},
     "output_type": "execute_result"
    }
   ],
   "source": [
    "# Let's do the similar analysis on whether weather has an impact on the cycles rented \n",
    "df_final['weather'].value_counts()"
   ]
  },
  {
   "cell_type": "code",
   "execution_count": 116,
   "id": "ace28503",
   "metadata": {},
   "outputs": [],
   "source": [
    "# We have only 1 record of heavy rain so we cannot conclude anything with that data so I am just discarding that\n",
    "df_final=df_final[df_final['weather']!='heavy rain']"
   ]
  },
  {
   "cell_type": "code",
   "execution_count": 117,
   "id": "1c4ac446",
   "metadata": {},
   "outputs": [
    {
     "data": {
      "text/plain": [
       "weather\n",
       "clear         6957\n",
       "Mist          2776\n",
       "light rain     846\n",
       "Name: count, dtype: int64"
      ]
     },
     "execution_count": 117,
     "metadata": {},
     "output_type": "execute_result"
    }
   ],
   "source": [
    "df_final['weather'].value_counts()"
   ]
  },
  {
   "cell_type": "code",
   "execution_count": 123,
   "id": "f84dfd03",
   "metadata": {},
   "outputs": [
    {
     "data": {
      "image/png": "[encoded data removed]",
      "text/plain": [
       "<Figure size 1000x800 with 4 Axes>"
      ]
     },
     "metadata": {},
     "output_type": "display_data"
    },
    {
     "name": "stdout",
     "output_type": "stream",
     "text": [
      "Clear weather: 1.2735375502597808e-21, Misty weather: 4.111126519453957e-24, Rainy weather: 1.233897518108994e-30\n",
      "Data is not normally distributed\n",
      "Pval for Levene's test= 1.667663875169262e-28\n",
      "Variances are not equal\n"
     ]
    }
   ],
   "source": [
    "# Similar to the seasons analysis let's check the weathers with Anova \n",
    "\n",
    "# Assumptions to apply anova test are as follows:\n",
    "# 1) The data should be normal\n",
    "# 2) There should be equal variances between the groups \n",
    "# 3) Data should be random and independent\n",
    "\n",
    "# Let's check if the data is normal:\n",
    "\n",
    "# H0: Data is normally distributed \n",
    "# HA: Data is not normally distributed\n",
    "\n",
    "df_c=df_final[df_final['weather']=='clear']['count'].sample(846)\n",
    "df_m=df_final[df_final['weather']=='Mist']['count'].sample(846)\n",
    "df_r=df_final[df_final['weather']=='light rain']['count'].sample(846)\n",
    "\n",
    "fig,axes=plt.subplots(2,2,figsize=(10,8))\n",
    "sns.histplot(df_c,kde=True,bins=40,ax=axes[0,0])\n",
    "sns.histplot(df_m,kde=True,bins=40,ax=axes[0,1])\n",
    "sns.histplot(df_r,kde=True,bins=40,ax=axes[1,0])\n",
    "plt.show()\n",
    "\n",
    "s1,p1=scipy.stats.shapiro(df_c)\n",
    "s2,p2=scipy.stats.shapiro(df_m)\n",
    "s3,p3=scipy.stats.shapiro(df_r)\n",
    "\n",
    "print(f\"Clear weather: {p1}, Misty weather: {p2}, Rainy weather: {p3}\" )\n",
    "      \n",
    "if p1<0.05:\n",
    "      print(\"Data is not normally distributed\")\n",
    "else:\n",
    "      print(\"Data is normally distributed\")\n",
    "\n",
    "# H0 : Variances of count among different weathers is equal\n",
    "# HA : Variances of count among different weathers is different \n",
    "    \n",
    "# Let's check variances using levene's test \n",
    "\n",
    "l,pval_levene=scipy.stats.levene(df_c,df_m,df_r)\n",
    "\n",
    "print(f\"Pval for Levene's test= {pval_levene}\")\n",
    "\n",
    "if pval_levene<0.05:\n",
    "      print(\"Variances are not equal\")\n",
    "else:\n",
    "      print(\"Variances are equal\")\n"
   ]
  },
  {
   "cell_type": "code",
   "execution_count": 124,
   "id": "1e15681e",
   "metadata": {},
   "outputs": [
    {
     "name": "stdout",
     "output_type": "stream",
     "text": [
      "2.7410756166358054e-30\n",
      "There is an impact of weather on count of cycles\n"
     ]
    }
   ],
   "source": [
    "# Inference is that assumptions are not holding for Anova for testing weather impact on count\n",
    "# Hence performing kruskal wallis test\n",
    "\n",
    "stat1,p_val_kruskal=scipy.stats.kruskal(df_c,df_m,df_r)\n",
    "print(p_val_kruskal)\n",
    "if p_val_kruskal<0.05:\n",
    "    print('There is an impact of weather on count of cycles')\n",
    "else:\n",
    "    print('There is no impact of weather on count of cycles')"
   ]
  },
  {
   "cell_type": "code",
   "execution_count": 132,
   "id": "fab99750",
   "metadata": {},
   "outputs": [
    {
     "data": {
      "image/png": "[encoded data removed]",
      "text/plain": [
       "<Figure size 640x480 with 1 Axes>"
      ]
     },
     "metadata": {},
     "output_type": "display_data"
    }
   ],
   "source": [
    "# Let's now check whether season impacts weather. (Both weather and season are categorical variables)\n",
    "\n",
    "sns.countplot(x='season',hue='weather',data=df_final,palette='Set1')\n",
    "plt.legend(loc=(-0.25,1))\n",
    "plt.show()\n",
    "\n"
   ]
  },
  {
   "cell_type": "code",
   "execution_count": 137,
   "id": "2ab35b72",
   "metadata": {},
   "outputs": [
    {
     "data": {
      "text/html": [
       "<div>\n",
       "<style scoped>\n",
       "    .dataframe tbody tr th:only-of-type {\n",
       "        vertical-align: middle;\n",
       "    }\n",
       "\n",
       "    .dataframe tbody tr th {\n",
       "        vertical-align: top;\n",
       "    }\n",
       "\n",
       "    .dataframe thead th {\n",
       "        text-align: right;\n",
       "    }\n",
       "</style>\n",
       "<table border=\"1\" class=\"dataframe\">\n",
       "  <thead>\n",
       "    <tr style=\"text-align: right;\">\n",
       "      <th>weather</th>\n",
       "      <th>Mist</th>\n",
       "      <th>clear</th>\n",
       "      <th>light rain</th>\n",
       "    </tr>\n",
       "    <tr>\n",
       "      <th>season</th>\n",
       "      <th></th>\n",
       "      <th></th>\n",
       "      <th></th>\n",
       "    </tr>\n",
       "  </thead>\n",
       "  <tbody>\n",
       "    <tr>\n",
       "      <th>fall</th>\n",
       "      <td>594</td>\n",
       "      <td>1882</td>\n",
       "      <td>196</td>\n",
       "    </tr>\n",
       "    <tr>\n",
       "      <th>spring</th>\n",
       "      <td>689</td>\n",
       "      <td>1651</td>\n",
       "      <td>206</td>\n",
       "    </tr>\n",
       "    <tr>\n",
       "      <th>summer</th>\n",
       "      <td>705</td>\n",
       "      <td>1763</td>\n",
       "      <td>223</td>\n",
       "    </tr>\n",
       "    <tr>\n",
       "      <th>winter</th>\n",
       "      <td>788</td>\n",
       "      <td>1661</td>\n",
       "      <td>221</td>\n",
       "    </tr>\n",
       "  </tbody>\n",
       "</table>\n",
       "</div>"
      ],
      "text/plain": [
       "weather  Mist  clear  light rain\n",
       "season                          \n",
       "fall      594   1882         196\n",
       "spring    689   1651         206\n",
       "summer    705   1763         223\n",
       "winter    788   1661         221"
      ]
     },
     "execution_count": 137,
     "metadata": {},
     "output_type": "execute_result"
    }
   ],
   "source": [
    "# As you can see the above count plot there doesn't seem to look much of a difference so we have to test\n",
    "# whether there is an impact of season on weather, this can be done using chisquare test as it is used for two categorical \n",
    "# type of variables\n",
    "\n",
    "# H0 : There is no impact of season on weather\n",
    "# HA : There is an impact of season on weather\n",
    "\n",
    "crosstab=pd.crosstab(df_final['season'],df_final['weather'])\n",
    "crosstab"
   ]
  },
  {
   "cell_type": "code",
   "execution_count": 139,
   "id": "aad952de",
   "metadata": {},
   "outputs": [
    {
     "name": "stdout",
     "output_type": "stream",
     "text": [
      "6.429886183354367e-08\n",
      "There is an impact of season on weather\n"
     ]
    }
   ],
   "source": [
    "cstat,pvalue,dof,expected_freq=scipy.stats.chi2_contingency(crosstab)\n",
    "print(pvalue)\n",
    "\n",
    "if pvalue<0.05:\n",
    "    print(\"There is an impact of season on weather\")\n",
    "else:\n",
    "    print(\"There is no impact of season on weather\")\n",
    "    \n"
   ]
  },
  {
   "cell_type": "code",
   "execution_count": null,
   "id": "944b5f92",
   "metadata": {},
   "outputs": [],
   "source": [
    "# As we can see the pvalue is way below 0.05 we can reject the null hypothesis and hence safely say\n",
    "# There is an impact of season on weather."
   ]
  }
 ],
 "metadata": {
  "kernelspec": {
   "display_name": "Python 3 (ipykernel)",
   "language": "python",
   "name": "python3"
  },
  "language_info": {
   "codemirror_mode": {
    "name": "ipython",
    "version": 3
   },
   "file_extension": ".py",
   "mimetype": "text/x-python",
   "name": "python",
   "nbconvert_exporter": "python",
   "pygments_lexer": "ipython3",
   "version": "3.11.5"
  }
 },
 "nbformat": 4,
 "nbformat_minor": 5
}
